{
 "cells": [
  {
   "cell_type": "code",
   "execution_count": 27,
   "id": "d7fa72fc",
   "metadata": {},
   "outputs": [],
   "source": [
    "# Cette fonction affiche la grille de sudoku dans un format lisible.\n",
    "def affichage(grille):\n",
    "    for ligne in grille:\n",
    "        print(\" \".join(map(str, ligne)))"
   ]
  },
  {
   "cell_type": "code",
   "execution_count": 28,
   "id": "29c9834e",
   "metadata": {},
   "outputs": [],
   "source": [
    "# Ces trois fonctions vérifient si un nombre donné n'est pas déjà présent\n",
    "# dans une ligne, une colonne ou un bloc du sudoku.\n",
    "def absentsurligne(n, grille, y):\n",
    "    return n not in grille[y]"
   ]
  },
  {
   "cell_type": "code",
   "execution_count": 29,
   "id": "d0e80f7c",
   "metadata": {},
   "outputs": [],
   "source": [
    "def absentsurcolonne(n, grille, x):\n",
    "    return n not in [ligne[x] for ligne in grille]"
   ]
  },
  {
   "cell_type": "code",
   "execution_count": 30,
   "id": "8279763b",
   "metadata": {},
   "outputs": [],
   "source": [
    "def absentsurbloc(n, grille, x, y):\n",
    "    debut_x = (x // 3) * 3\n",
    "    debut_y = (y // 3) * 3\n",
    "    return n not in [grille[debut_y + i][debut_x + j] for i in range(3) for j in range(3)]"
   ]
  },
  {
   "cell_type": "code",
   "execution_count": 31,
   "id": "718ba8f0",
   "metadata": {},
   "outputs": [],
   "source": [
    "# Cette fonction résout le sudoku récursivement en essayant différentes valeurs\n",
    "# pour chaque case vide jusqu'à ce que la grille soit complète et valide.\n",
    "def estvalide(grille, position):\n",
    "    # Si la position dépasse la dernière case de la grille,\n",
    "    # cela signifie que la grille est complète et valide.\n",
    "    if position == 9 * 9:\n",
    "        return True\n",
    "\n",
    "    y = position // 9  # Calcule la ligne actuelle.\n",
    "    x = position % 9   # Calcule la colonne actuelle.\n",
    "\n",
    "    # Si la case n'est pas vide, passe à la case suivante.\n",
    "    if grille[y][x] != 0:\n",
    "        return estvalide(grille, position + 1)\n",
    "    else:\n",
    "        # Sinon, essaye différentes valeurs pour la case.\n",
    "        for n in range(1, 10):\n",
    "            # Vérifie si la valeur est valide pour la ligne, la colonne et le bloc.\n",
    "            if absentsurligne(n, grille, y) and absentsurcolonne(n, grille, x) and absentsurbloc(n, grille, x, y):\n",
    "                grille[y][x] = n  # Affecte la valeur à la case.\n",
    "                # Résout récursivement le reste de la grille.\n",
    "                if estvalide(grille, position + 1):\n",
    "                    return True\n",
    "\n",
    "        grille[y][x] = 0  # Réinitialise la case à zéro si aucune valeur ne fonctionne.\n",
    "        return False"
   ]
  },
  {
   "cell_type": "code",
   "execution_count": 32,
   "id": "6dff6286",
   "metadata": {},
   "outputs": [
    {
     "name": "stdout",
     "output_type": "stream",
     "text": [
      "Grille avant\n",
      "\n",
      "0 0 0 4 0 0 0 9 2\n",
      "0 0 1 0 5 9 0 8 0\n",
      "0 0 0 6 0 7 0 0 0\n",
      "0 3 0 0 0 0 6 7 0\n",
      "0 0 6 8 0 4 5 0 0\n",
      "0 9 4 0 0 0 0 1 0\n",
      "0 0 0 1 0 2 0 0 0\n",
      "0 5 0 9 8 0 3 0 0\n",
      "2 1 0 0 0 5 0 0 0\n",
      "\n",
      "Grille après\n",
      "\n",
      "7 6 5 4 3 8 1 9 2\n",
      "3 4 1 2 5 9 7 8 6\n",
      "9 2 8 6 1 7 4 5 3\n",
      "8 3 2 5 9 1 6 7 4\n",
      "1 7 6 8 2 4 5 3 9\n",
      "5 9 4 7 6 3 2 1 8\n",
      "6 8 3 1 7 2 9 4 5\n",
      "4 5 7 9 8 6 3 2 1\n",
      "2 1 9 3 4 5 8 6 7\n"
     ]
    }
   ],
   "source": [
    "# Code principal\n",
    "if __name__ == \"__main__\":\n",
    "    # Grille de sudoku à résoudre.\n",
    "    grille = [\n",
    "        [0, 0, 0, 4, 0, 0, 0, 9, 2],\n",
    "        [0, 0, 1, 0, 5, 9, 0, 8, 0],\n",
    "        [0, 0, 0, 6, 0, 7, 0, 0, 0],\n",
    "        [0, 3, 0, 0, 0, 0, 6, 7, 0],\n",
    "        [0, 0, 6, 8, 0, 4, 5, 0, 0],\n",
    "        [0, 9, 4, 0, 0, 0, 0, 1, 0],\n",
    "        [0, 0, 0, 1, 0, 2, 0, 0, 0],\n",
    "        [0, 5, 0, 9, 8, 0, 3, 0, 0],\n",
    "        [2, 1, 0, 0, 0, 5, 0, 0, 0]\n",
    "    ]\n",
    "\n",
    "    print(\"Grille avant\\n\")\n",
    "    affichage(grille)\n",
    "\n",
    "    estvalide(grille, 0)  # Résout la grille.\n",
    "\n",
    "    print(\"\\nGrille après\\n\")\n",
    "    affichage(grille)"
   ]
  },
  {
   "cell_type": "code",
   "execution_count": null,
   "id": "2d567121",
   "metadata": {},
   "outputs": [],
   "source": []
  }
 ],
 "metadata": {
  "kernelspec": {
   "display_name": "Python 3 (ipykernel)",
   "language": "python",
   "name": "python3"
  },
  "language_info": {
   "codemirror_mode": {
    "name": "ipython",
    "version": 3
   },
   "file_extension": ".py",
   "mimetype": "text/x-python",
   "name": "python",
   "nbconvert_exporter": "python",
   "pygments_lexer": "ipython3",
   "version": "3.10.6"
  },
  "toc": {
   "base_numbering": 1,
   "nav_menu": {},
   "number_sections": true,
   "sideBar": true,
   "skip_h1_title": false,
   "title_cell": "Table of Contents",
   "title_sidebar": "Contents",
   "toc_cell": false,
   "toc_position": {},
   "toc_section_display": true,
   "toc_window_display": false
  }
 },
 "nbformat": 4,
 "nbformat_minor": 5
}
