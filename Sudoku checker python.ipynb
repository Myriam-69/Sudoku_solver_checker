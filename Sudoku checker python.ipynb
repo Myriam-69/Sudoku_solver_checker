{
 "cells": [
  {
   "cell_type": "code",
   "execution_count": 2,
   "id": "43f80d34",
   "metadata": {},
   "outputs": [],
   "source": [
    "sudoku = [[1, 6, 2, 8, 5, 7, 4, 9, 3],\n",
    "          [5, 3, 4, 1, 2, 9, 6, 7, 8],\n",
    "          [7, 8, 9, 6, 4, 3, 5, 2, 1],\n",
    "          \n",
    "          [4, 7, 5, 3, 1, 2, 9, 8, 6],\n",
    "          [9, 1, 3, 5, 8, 6, 7, 4, 2],\n",
    "          [6, 2, 8, 7, 9, 4, 1, 3, 5],\n",
    "          \n",
    "          [3, 5, 6, 4, 7, 8, 2, 1, 9],\n",
    "          [2, 4, 1, 9, 3, 5, 8, 6, 7],\n",
    "          [8, 9, 7, 2, 6, 1, 3, 5, 4]]"
   ]
  },
  {
   "cell_type": "code",
   "execution_count": 3,
   "id": "a462e1d0",
   "metadata": {},
   "outputs": [],
   "source": [
    "def grid_validator(sudoku):\n",
    "    if sudoku_checker_ligne(grid) == True and sudoku_checker_colonne(grid) == True and checker_carre_total(grid) == True:\n",
    "        return True\n",
    "    else:\n",
    "        return False"
   ]
  },
  {
   "cell_type": "code",
   "execution_count": 4,
   "id": "34454611",
   "metadata": {},
   "outputs": [
    {
     "data": {
      "text/plain": [
       "True"
      ]
     },
     "execution_count": 4,
     "metadata": {},
     "output_type": "execute_result"
    }
   ],
   "source": [
    "def line_validator(sudoku):\n",
    "    for i in range(0, 9):\n",
    "        ligne = sudoku[i]\n",
    "        if sorted(ligne) != [1, 2, 3, 4, 5, 6, 7, 8, 9]:\n",
    "            return False\n",
    "    return True\n",
    "\n",
    "test = line_validator(sudoku)\n",
    "test"
   ]
  },
  {
   "cell_type": "code",
   "execution_count": 11,
   "id": "72845d5b",
   "metadata": {},
   "outputs": [
    {
     "name": "stdout",
     "output_type": "stream",
     "text": [
      "[1]\n",
      "[1, 6]\n",
      "[1, 6, 2]\n",
      "[1, 6, 2, 8]\n",
      "[1, 6, 2, 8, 5]\n",
      "[1, 6, 2, 8, 5, 7]\n",
      "[1, 6, 2, 8, 5, 7, 4]\n",
      "[1, 6, 2, 8, 5, 7, 4, 9]\n",
      "[1, 6, 2, 8, 5, 7, 4, 9, 3]\n",
      "[5]\n",
      "[5, 3]\n",
      "[5, 3, 4]\n",
      "[5, 3, 4, 1]\n",
      "[5, 3, 4, 1, 2]\n",
      "[5, 3, 4, 1, 2, 9]\n",
      "[5, 3, 4, 1, 2, 9, 6]\n",
      "[5, 3, 4, 1, 2, 9, 6, 7]\n",
      "[5, 3, 4, 1, 2, 9, 6, 7, 8]\n",
      "[7]\n",
      "[7, 8]\n",
      "[7, 8, 9]\n",
      "[7, 8, 9, 6]\n",
      "[7, 8, 9, 6, 4]\n",
      "[7, 8, 9, 6, 4, 3]\n",
      "[7, 8, 9, 6, 4, 3, 5]\n",
      "[7, 8, 9, 6, 4, 3, 5, 2]\n",
      "[7, 8, 9, 6, 4, 3, 5, 2, 1]\n",
      "[4]\n",
      "[4, 7]\n",
      "[4, 7, 5]\n",
      "[4, 7, 5, 3]\n",
      "[4, 7, 5, 3, 1]\n",
      "[4, 7, 5, 3, 1, 2]\n",
      "[4, 7, 5, 3, 1, 2, 9]\n",
      "[4, 7, 5, 3, 1, 2, 9, 8]\n",
      "[4, 7, 5, 3, 1, 2, 9, 8, 6]\n",
      "[9]\n",
      "[9, 1]\n",
      "[9, 1, 3]\n",
      "[9, 1, 3, 5]\n",
      "[9, 1, 3, 5, 8]\n",
      "[9, 1, 3, 5, 8, 6]\n",
      "[9, 1, 3, 5, 8, 6, 7]\n",
      "[9, 1, 3, 5, 8, 6, 7, 4]\n",
      "[9, 1, 3, 5, 8, 6, 7, 4, 2]\n",
      "[6]\n",
      "[6, 2]\n",
      "[6, 2, 8]\n",
      "[6, 2, 8, 7]\n",
      "[6, 2, 8, 7, 9]\n",
      "[6, 2, 8, 7, 9, 4]\n",
      "[6, 2, 8, 7, 9, 4, 1]\n",
      "[6, 2, 8, 7, 9, 4, 1, 3]\n",
      "[6, 2, 8, 7, 9, 4, 1, 3, 5]\n",
      "[3]\n",
      "[3, 5]\n",
      "[3, 5, 6]\n",
      "[3, 5, 6, 4]\n",
      "[3, 5, 6, 4, 7]\n",
      "[3, 5, 6, 4, 7, 8]\n",
      "[3, 5, 6, 4, 7, 8, 2]\n",
      "[3, 5, 6, 4, 7, 8, 2, 1]\n",
      "[3, 5, 6, 4, 7, 8, 2, 1, 9]\n",
      "[2]\n",
      "[2, 4]\n",
      "[2, 4, 1]\n",
      "[2, 4, 1, 9]\n",
      "[2, 4, 1, 9, 3]\n",
      "[2, 4, 1, 9, 3, 5]\n",
      "[2, 4, 1, 9, 3, 5, 8]\n",
      "[2, 4, 1, 9, 3, 5, 8, 6]\n",
      "[2, 4, 1, 9, 3, 5, 8, 6, 7]\n",
      "[8]\n",
      "[8, 9]\n",
      "[8, 9, 7]\n",
      "[8, 9, 7, 2]\n",
      "[8, 9, 7, 2, 6]\n",
      "[8, 9, 7, 2, 6, 1]\n",
      "[8, 9, 7, 2, 6, 1, 3]\n",
      "[8, 9, 7, 2, 6, 1, 3, 5]\n",
      "[8, 9, 7, 2, 6, 1, 3, 5, 4]\n"
     ]
    },
    {
     "data": {
      "text/plain": [
       "True"
      ]
     },
     "execution_count": 11,
     "metadata": {},
     "output_type": "execute_result"
    }
   ],
   "source": [
    "def column_validator(sudoku):\n",
    "    for i in range(0, 9):\n",
    "        column = []\n",
    "        for j in range(0, 9):\n",
    "            column.append(sudoku[i][j])\n",
    "            print(column)\n",
    "        if sorted(column) != [1, 2, 3, 4, 5, 6, 7, 8, 9]:\n",
    "            print(column)\n",
    "            return False\n",
    "    return True\n",
    "\n",
    "test2 = column_validator(sudoku)\n",
    "test2"
   ]
  },
  {
   "cell_type": "code",
   "execution_count": 8,
   "id": "a5ea1eab",
   "metadata": {},
   "outputs": [
    {
     "data": {
      "text/plain": [
       "True"
      ]
     },
     "execution_count": 8,
     "metadata": {},
     "output_type": "execute_result"
    }
   ],
   "source": [
    "def checker_carre(sudoku, l, c):\n",
    "    liste = []\n",
    "    for i in range(l, l + 3):\n",
    "        for j in range(c, c + 3):\n",
    "            liste.append(sudoku[i][j])\n",
    "    if sorted(liste) != [1, 2, 3, 4, 5, 6, 7, 8, 9]:\n",
    "        print(liste)\n",
    "        return False\n",
    "    return True\n",
    "\n",
    "carre1 = checker_carre(sudoku, 0,0)\n",
    "carre1"
   ]
  },
  {
   "cell_type": "code",
   "execution_count": 9,
   "id": "9ea2d458",
   "metadata": {},
   "outputs": [
    {
     "data": {
      "text/plain": [
       "True"
      ]
     },
     "execution_count": 9,
     "metadata": {},
     "output_type": "execute_result"
    }
   ],
   "source": [
    "def checker_carre_total(sudoku):\n",
    "    for i in range(0, 9, 3):\n",
    "        for j in range(0, 9, 3):\n",
    "            if not checker_carre(sudoku, i, j):\n",
    "                return False\n",
    "    return True\n",
    "\n",
    "carre2 = checker_carre_total(sudoku)\n",
    "carre2"
   ]
  },
  {
   "cell_type": "code",
   "execution_count": null,
   "id": "91cb0e9a",
   "metadata": {},
   "outputs": [],
   "source": []
  }
 ],
 "metadata": {
  "kernelspec": {
   "display_name": "Python 3 (ipykernel)",
   "language": "python",
   "name": "python3"
  },
  "language_info": {
   "codemirror_mode": {
    "name": "ipython",
    "version": 3
   },
   "file_extension": ".py",
   "mimetype": "text/x-python",
   "name": "python",
   "nbconvert_exporter": "python",
   "pygments_lexer": "ipython3",
   "version": "3.10.6"
  },
  "toc": {
   "base_numbering": 1,
   "nav_menu": {},
   "number_sections": true,
   "sideBar": true,
   "skip_h1_title": false,
   "title_cell": "Table of Contents",
   "title_sidebar": "Contents",
   "toc_cell": false,
   "toc_position": {},
   "toc_section_display": true,
   "toc_window_display": false
  }
 },
 "nbformat": 4,
 "nbformat_minor": 5
}
